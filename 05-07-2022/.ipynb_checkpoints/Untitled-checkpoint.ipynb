{
 "cells": [
  {
   "cell_type": "code",
   "execution_count": 191,
   "id": "a6b8a583",
   "metadata": {},
   "outputs": [],
   "source": [
    "from datetime import datetime, date\n",
    "import json\n",
    "\n",
    "def date_format(date):\n",
    "    datetimeobject = datetime.strptime(date,\"%d/%m/%Y\")\n",
    "    \n",
    "    new_format_1 = datetimeobject.strftime(\"%d %b %Y\")\n",
    "    formate = new_format_1.split(\" \")\n",
    "    if int(formate[0]) > 0 and int(formate[0]) == 1:\n",
    "        formate[0] = str(formate[0])+\"st\"\n",
    "    elif int(formate[0]) > 1 and int(formate[0]) == 2:\n",
    "        formate[0] = str(formate[0])+\"nd\"\n",
    "    elif int(formate[0]) > 2 and int(formate[0]) == 3:\n",
    "        formate[0] = str(formate[0])+\"rd\"\n",
    "    elif int(formate[0]) > 3 and int(formate[0]) < 21 or int(formate[0]) > 23:\n",
    "        formate[0] = str(formate[0])+\"th\"\n",
    "    elif int(formate[0]) > 20 and int(formate[0]) == 21:\n",
    "        formate[0] = str(formate[0])+\"st\"\n",
    "    elif int(formate[0]) > 21 and int(formate[0]) == 22:\n",
    "        formate[0] = str(formate[0])+\"nd\"\n",
    "    elif int(formate[0]) > 22 and int(formate[0]) == 23:\n",
    "        formate[0] = str(formate[0])+\"st\"\n",
    "    \n",
    "    return \" \".join(formate)\n",
    "\n",
    "def find_age(born):\n",
    "    born = datetime.strptime(born, \"%d/%m/%Y\").date()\n",
    "    today = date.today()\n",
    "    age = today.year - born.year - ((today.month,today.day) < (born.month,born.day))\n",
    "    \n",
    "    return age"
   ]
  },
  {
   "cell_type": "code",
   "execution_count": 208,
   "id": "e9ec88ab",
   "metadata": {},
   "outputs": [
    {
     "name": "stdout",
     "output_type": "stream",
     "text": [
      "{'id': 1, 'Name': 'Ines', 'Age': 31, 'DOB': '22/12/1990'}\n",
      "{'id': 2, 'Name': 'Latrena', 'Age': 31, 'DOB': '16/2/1991'}\n",
      "{'id': 3, 'Name': 'Thelma', 'Age': 30, 'DOB': '17/5/1992'}\n",
      "{'id': 4, 'Name': 'Rianon', 'Age': 29, 'DOB': '05/8/1992'}\n",
      "{'id': 5, 'Name': 'Rafa', 'Age': 29, 'DOB': '13/9/1992'}\n",
      "{'id': 6, 'Name': 'Arabela', 'Age': 28, 'DOB': '24/10/1993'}\n",
      "{'id': 7, 'Name': 'Dione', 'Age': 25, 'DOB': '03/5/1997'}\n",
      "{'id': 8, 'Name': 'Aline', 'Age': 23, 'DOB': '02/3/1999'}\n",
      "{'id': 9, 'Name': 'Teddi', 'Age': 20, 'DOB': '04/8/2001'}\n",
      "{'id': 10, 'Name': 'Ellary', 'Age': 18, 'DOB': '24/5/2004'}\n",
      "{'id': 11, 'Name': 'Rory', 'Age': 16, 'DOB': '05/3/2006'}\n",
      "{'id': 12, 'Name': 'Mallissa', 'Age': 15, 'DOB': '08/1/2007'}\n",
      "{'id': 13, 'Name': 'Jessey', 'Age': 14, 'DOB': '19/7/2007'}\n",
      "{'id': 14, 'Name': 'Georgina', 'Age': 14, 'DOB': '16/3/2008'}\n",
      "{'id': 15, 'Name': 'Butch', 'Age': 13, 'DOB': '03/12/2008'}\n",
      "{'id': 16, 'Name': 'Edmund', 'Age': 13, 'DOB': '23/3/2009'}\n",
      "{'id': 17, 'Name': 'Elisabetta', 'Age': 10, 'DOB': '06/6/2012'}\n",
      "{'id': 18, 'Name': 'Jasmine', 'Age': 9, 'DOB': '06/7/2012'}\n",
      "{'id': 19, 'Name': 'Binni', 'Age': 9, 'DOB': '10/3/2013'}\n",
      "{'id': 20, 'Name': 'Kendra', 'Age': 7, 'DOB': '18/10/2014'}\n",
      "{'id': 21, 'Name': 'Henrietta', 'Age': 7, 'DOB': '20/6/2015'}\n",
      "{'id': 22, 'Name': 'Conney', 'Age': 5, 'DOB': '22/7/2016'}\n",
      "{'id': 23, 'Name': 'Lucy', 'Age': 5, 'DOB': '08/9/2016'}\n",
      "{'id': 24, 'Name': 'Larissa', 'Age': 4, 'DOB': '12/7/2017'}\n",
      "{'id': 25, 'Name': 'Leonhard', 'Age': 3, 'DOB': '22/6/2019'}\n"
     ]
    }
   ],
   "source": [
    "import json\n",
    "import module\n",
    "\n",
    "f = open('data.json')\n",
    "data = json.load(f)\n",
    "\n",
    "# type(data)\n",
    "for i in range(0, len(data[\"data\"])):\n",
    "    data['data'][i][\"Age\"] = module.find_age(data['data'][i][\"DOB\"])\n",
    "\n",
    "for i in data[\"data\"]:\n",
    "    print(i)\n",
    "\n",
    "# for i in range(0, len(data[\"data\"])):\n",
    "#     for k, v in data[\"data\"][i].items():\n",
    "#         print(k, \" : \", v)\n",
    "#     print()"
   ]
  },
  {
   "cell_type": "code",
   "execution_count": 219,
   "id": "f28d4aea",
   "metadata": {},
   "outputs": [],
   "source": [
    "d = [data[\"data\"][i:i+5] for i in range(0, len(data[\"data\"]), 5)]"
   ]
  },
  {
   "cell_type": "code",
   "execution_count": 229,
   "id": "b0b4e4bc",
   "metadata": {
    "scrolled": true
   },
   "outputs": [
    {
     "data": {
      "text/plain": [
       "[{'id': 1, 'Name': 'Ines', 'Age': 31, 'DOB': '22/12/1990'},\n",
       " {'id': 2, 'Name': 'Latrena', 'Age': 31, 'DOB': '16/2/1991'},\n",
       " {'id': 3, 'Name': 'Thelma', 'Age': 30, 'DOB': '17/5/1992'},\n",
       " {'id': 4, 'Name': 'Rianon', 'Age': 29, 'DOB': '05/8/1992'},\n",
       " {'id': 5, 'Name': 'Rafa', 'Age': 29, 'DOB': '13/9/1992'}]"
      ]
     },
     "execution_count": 229,
     "metadata": {},
     "output_type": "execute_result"
    }
   ],
   "source": [
    "d[0]"
   ]
  },
  {
   "cell_type": "code",
   "execution_count": 232,
   "id": "539496af",
   "metadata": {},
   "outputs": [
    {
     "data": {
      "text/plain": [
       "[[{'id': 1, 'Name': 'Ines', 'Age': 31, 'DOB': '22/12/1990'},\n",
       "  {'id': 2, 'Name': 'Latrena', 'Age': 31, 'DOB': '16/2/1991'},\n",
       "  {'id': 3, 'Name': 'Thelma', 'Age': 30, 'DOB': '17/5/1992'},\n",
       "  {'id': 4, 'Name': 'Rianon', 'Age': 29, 'DOB': '05/8/1992'},\n",
       "  {'id': 5, 'Name': 'Rafa', 'Age': 29, 'DOB': '13/9/1992'}],\n",
       " [{'id': 6, 'Name': 'Arabela', 'Age': 28, 'DOB': '24/10/1993'},\n",
       "  {'id': 7, 'Name': 'Dione', 'Age': 25, 'DOB': '03/5/1997'},\n",
       "  {'id': 8, 'Name': 'Aline', 'Age': 23, 'DOB': '02/3/1999'},\n",
       "  {'id': 9, 'Name': 'Teddi', 'Age': 20, 'DOB': '04/8/2001'},\n",
       "  {'id': 10, 'Name': 'Ellary', 'Age': 18, 'DOB': '24/5/2004'}],\n",
       " [{'id': 11, 'Name': 'Rory', 'Age': 16, 'DOB': '05/3/2006'},\n",
       "  {'id': 12, 'Name': 'Mallissa', 'Age': 15, 'DOB': '08/1/2007'},\n",
       "  {'id': 13, 'Name': 'Jessey', 'Age': 14, 'DOB': '19/7/2007'},\n",
       "  {'id': 14, 'Name': 'Georgina', 'Age': 14, 'DOB': '16/3/2008'},\n",
       "  {'id': 15, 'Name': 'Butch', 'Age': 13, 'DOB': '03/12/2008'}],\n",
       " [{'id': 16, 'Name': 'Edmund', 'Age': 13, 'DOB': '23/3/2009'},\n",
       "  {'id': 17, 'Name': 'Elisabetta', 'Age': 10, 'DOB': '06/6/2012'},\n",
       "  {'id': 18, 'Name': 'Jasmine', 'Age': 9, 'DOB': '06/7/2012'},\n",
       "  {'id': 19, 'Name': 'Binni', 'Age': 9, 'DOB': '10/3/2013'},\n",
       "  {'id': 20, 'Name': 'Kendra', 'Age': 7, 'DOB': '18/10/2014'}],\n",
       " [{'id': 21, 'Name': 'Henrietta', 'Age': 7, 'DOB': '20/6/2015'},\n",
       "  {'id': 22, 'Name': 'Conney', 'Age': 5, 'DOB': '22/7/2016'},\n",
       "  {'id': 23, 'Name': 'Lucy', 'Age': 5, 'DOB': '08/9/2016'},\n",
       "  {'id': 24, 'Name': 'Larissa', 'Age': 4, 'DOB': '12/7/2017'},\n",
       "  {'id': 25, 'Name': 'Leonhard', 'Age': 3, 'DOB': '22/6/2019'}]]"
      ]
     },
     "execution_count": 232,
     "metadata": {},
     "output_type": "execute_result"
    }
   ],
   "source": [
    "d"
   ]
  },
  {
   "cell_type": "code",
   "execution_count": 235,
   "id": "fcd0ae2e",
   "metadata": {
    "scrolled": false
   },
   "outputs": [
    {
     "name": "stdout",
     "output_type": "stream",
     "text": [
      "{'id': 1, 'Name': 'Ines', 'Age': 31, 'DOB': '22/12/1990'}\n",
      "{'id': 2, 'Name': 'Latrena', 'Age': 31, 'DOB': '16/2/1991'}\n",
      "{'id': 3, 'Name': 'Thelma', 'Age': 30, 'DOB': '17/5/1992'}\n",
      "{'id': 4, 'Name': 'Rianon', 'Age': 29, 'DOB': '05/8/1992'}\n",
      "{'id': 5, 'Name': 'Rafa', 'Age': 29, 'DOB': '13/9/1992'}\n",
      "\n",
      "{'id': 6, 'Name': 'Arabela', 'Age': 28, 'DOB': '24/10/1993'}\n",
      "{'id': 7, 'Name': 'Dione', 'Age': 25, 'DOB': '03/5/1997'}\n",
      "{'id': 8, 'Name': 'Aline', 'Age': 23, 'DOB': '02/3/1999'}\n",
      "{'id': 9, 'Name': 'Teddi', 'Age': 20, 'DOB': '04/8/2001'}\n",
      "{'id': 10, 'Name': 'Ellary', 'Age': 18, 'DOB': '24/5/2004'}\n",
      "\n",
      "{'id': 11, 'Name': 'Rory', 'Age': 16, 'DOB': '05/3/2006'}\n",
      "{'id': 12, 'Name': 'Mallissa', 'Age': 15, 'DOB': '08/1/2007'}\n",
      "{'id': 13, 'Name': 'Jessey', 'Age': 14, 'DOB': '19/7/2007'}\n",
      "{'id': 14, 'Name': 'Georgina', 'Age': 14, 'DOB': '16/3/2008'}\n",
      "{'id': 15, 'Name': 'Butch', 'Age': 13, 'DOB': '03/12/2008'}\n",
      "\n",
      "{'id': 16, 'Name': 'Edmund', 'Age': 13, 'DOB': '23/3/2009'}\n",
      "{'id': 17, 'Name': 'Elisabetta', 'Age': 10, 'DOB': '06/6/2012'}\n",
      "{'id': 18, 'Name': 'Jasmine', 'Age': 9, 'DOB': '06/7/2012'}\n",
      "{'id': 19, 'Name': 'Binni', 'Age': 9, 'DOB': '10/3/2013'}\n",
      "{'id': 20, 'Name': 'Kendra', 'Age': 7, 'DOB': '18/10/2014'}\n",
      "\n",
      "{'id': 21, 'Name': 'Henrietta', 'Age': 7, 'DOB': '20/6/2015'}\n",
      "{'id': 22, 'Name': 'Conney', 'Age': 5, 'DOB': '22/7/2016'}\n",
      "{'id': 23, 'Name': 'Lucy', 'Age': 5, 'DOB': '08/9/2016'}\n",
      "{'id': 24, 'Name': 'Larissa', 'Age': 4, 'DOB': '12/7/2017'}\n",
      "{'id': 25, 'Name': 'Leonhard', 'Age': 3, 'DOB': '22/6/2019'}\n",
      "\n"
     ]
    }
   ],
   "source": [
    "for i in d:\n",
    "    for j in range(0, len(d)):\n",
    "        print(i[j])\n",
    "    print()"
   ]
  },
  {
   "cell_type": "code",
   "execution_count": 242,
   "id": "2cc586a9",
   "metadata": {},
   "outputs": [],
   "source": [
    "count = 0"
   ]
  },
  {
   "cell_type": "code",
   "execution_count": null,
   "id": "192652b8",
   "metadata": {},
   "outputs": [],
   "source": []
  },
  {
   "cell_type": "code",
   "execution_count": 243,
   "id": "f338ff5b",
   "metadata": {},
   "outputs": [
    {
     "name": "stdout",
     "output_type": "stream",
     "text": [
      "p\n",
      "[{'id': 1, 'Name': 'Ines', 'Age': 31, 'DOB': '22/12/1990'}, {'id': 2, 'Name': 'Latrena', 'Age': 31, 'DOB': '16/2/1991'}, {'id': 3, 'Name': 'Thelma', 'Age': 30, 'DOB': '17/5/1992'}, {'id': 4, 'Name': 'Rianon', 'Age': 29, 'DOB': '05/8/1992'}, {'id': 5, 'Name': 'Rafa', 'Age': 29, 'DOB': '13/9/1992'}]\n"
     ]
    }
   ],
   "source": [
    "inp = input()\n",
    "if inp == \"p\" or inp == \"P\":\n",
    "    if count == 0:\n",
    "        print(d[count])\n",
    "        count+=1\n",
    "    \n",
    "        \n",
    "    "
   ]
  },
  {
   "cell_type": "code",
   "execution_count": null,
   "id": "1c72a3e8",
   "metadata": {},
   "outputs": [],
   "source": []
  }
 ],
 "metadata": {
  "kernelspec": {
   "display_name": "Python 3 (ipykernel)",
   "language": "python",
   "name": "python3"
  },
  "language_info": {
   "codemirror_mode": {
    "name": "ipython",
    "version": 3
   },
   "file_extension": ".py",
   "mimetype": "text/x-python",
   "name": "python",
   "nbconvert_exporter": "python",
   "pygments_lexer": "ipython3",
   "version": "3.9.10"
  }
 },
 "nbformat": 4,
 "nbformat_minor": 5
}
