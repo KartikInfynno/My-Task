{
 "cells": [
  {
   "cell_type": "code",
   "execution_count": 68,
   "id": "2c92bc90",
   "metadata": {},
   "outputs": [],
   "source": [
    "import re"
   ]
  },
  {
   "cell_type": "code",
   "execution_count": 69,
   "id": "9d10dfcd",
   "metadata": {},
   "outputs": [],
   "source": [
    "st = \"kartik.infynno@gmail.m\""
   ]
  },
  {
   "cell_type": "code",
   "execution_count": 70,
   "id": "05a15300",
   "metadata": {},
   "outputs": [],
   "source": [
    "res = re.match(\"[a-z0-9._+-]+@[a-zA-Z]+.[a-zA-z0-9]{2,}\", st)"
   ]
  },
  {
   "cell_type": "code",
   "execution_count": 73,
   "id": "d35ce3f5",
   "metadata": {},
   "outputs": [
    {
     "name": "stdout",
     "output_type": "stream",
     "text": [
      "<re.Match object; span=(0, 20), match='kartik.infynno@gmail'>\n"
     ]
    }
   ],
   "source": [
    "if res:\n",
    "    print(res)\n",
    "else:\n",
    "    print(res)"
   ]
  },
  {
   "cell_type": "code",
   "execution_count": 74,
   "id": "d478d759",
   "metadata": {},
   "outputs": [],
   "source": [
    "mob = \"+91 70431 99598\""
   ]
  },
  {
   "cell_type": "code",
   "execution_count": 75,
   "id": "8fdbeff8",
   "metadata": {},
   "outputs": [],
   "source": [
    "reg = \"[+0-9 0-9]+ [0-9]{5}\""
   ]
  },
  {
   "cell_type": "code",
   "execution_count": 76,
   "id": "afc147cb",
   "metadata": {},
   "outputs": [],
   "source": [
    "mobile_res = re.match(reg,mob)"
   ]
  },
  {
   "cell_type": "code",
   "execution_count": 79,
   "id": "dd03379c",
   "metadata": {},
   "outputs": [
    {
     "name": "stdout",
     "output_type": "stream",
     "text": [
      "True\n"
     ]
    }
   ],
   "source": [
    "if mobile_res:\n",
    "    print(True)\n",
    "else:\n",
    "    print(False)"
   ]
  },
  {
   "cell_type": "code",
   "execution_count": null,
   "id": "a84809fe",
   "metadata": {},
   "outputs": [],
   "source": []
  },
  {
   "cell_type": "code",
   "execution_count": null,
   "id": "8ed7008a",
   "metadata": {},
   "outputs": [],
   "source": [
    "us_reg = "
   ]
  },
  {
   "cell_type": "code",
   "execution_count": null,
   "id": "05ec658c",
   "metadata": {},
   "outputs": [],
   "source": []
  },
  {
   "cell_type": "code",
   "execution_count": null,
   "id": "29cf2faa",
   "metadata": {},
   "outputs": [],
   "source": []
  },
  {
   "cell_type": "code",
   "execution_count": null,
   "id": "519d0bf7",
   "metadata": {},
   "outputs": [],
   "source": []
  },
  {
   "cell_type": "code",
   "execution_count": null,
   "id": "e0cde5e6",
   "metadata": {},
   "outputs": [],
   "source": []
  },
  {
   "cell_type": "code",
   "execution_count": 80,
   "id": "348b3f1f",
   "metadata": {},
   "outputs": [],
   "source": []
  },
  {
   "cell_type": "code",
   "execution_count": 93,
   "id": "edc0a916",
   "metadata": {},
   "outputs": [],
   "source": [
    "ind_zip = \"380026\""
   ]
  },
  {
   "cell_type": "code",
   "execution_count": 94,
   "id": "cb87d7e0",
   "metadata": {},
   "outputs": [],
   "source": [
    "re_zip = \"[+0-9]{6}\""
   ]
  },
  {
   "cell_type": "code",
   "execution_count": 95,
   "id": "488435f7",
   "metadata": {},
   "outputs": [],
   "source": [
    "res_zip = re.match(re_zip,ind_zip)"
   ]
  },
  {
   "cell_type": "code",
   "execution_count": 96,
   "id": "445fbbbb",
   "metadata": {},
   "outputs": [
    {
     "name": "stdout",
     "output_type": "stream",
     "text": [
      "True\n"
     ]
    }
   ],
   "source": [
    "if res_zip:\n",
    "    print(True)\n",
    "else:\n",
    "    print(False)"
   ]
  },
  {
   "cell_type": "code",
   "execution_count": null,
   "id": "b9a78ae3",
   "metadata": {},
   "outputs": [],
   "source": []
  }
 ],
 "metadata": {
  "kernelspec": {
   "display_name": "Python 3 (ipykernel)",
   "language": "python",
   "name": "python3"
  },
  "language_info": {
   "codemirror_mode": {
    "name": "ipython",
    "version": 3
   },
   "file_extension": ".py",
   "mimetype": "text/x-python",
   "name": "python",
   "nbconvert_exporter": "python",
   "pygments_lexer": "ipython3",
   "version": "3.9.10"
  }
 },
 "nbformat": 4,
 "nbformat_minor": 5
}
